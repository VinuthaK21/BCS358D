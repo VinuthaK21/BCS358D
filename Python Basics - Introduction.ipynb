{
  "nbformat": 4,
  "nbformat_minor": 0,
  "metadata": {
    "colab": {
      "provenance": [],
      "collapsed_sections": [
        "pTqQTUfqF-Ku"
      ],
      "authorship_tag": "ABX9TyNMan0LP+QRdzSVTZOM1BM7",
      "include_colab_link": true
    },
    "kernelspec": {
      "name": "python3",
      "display_name": "Python 3"
    },
    "language_info": {
      "name": "python"
    }
  },
  "cells": [
    {
      "cell_type": "markdown",
      "metadata": {
        "id": "view-in-github",
        "colab_type": "text"
      },
      "source": [
        "<a href=\"https://colab.research.google.com/github/ShilpaVasista/BCS358D/blob/main/Python%20Basics%20-%20Introduction.ipynb\" target=\"_parent\"><img src=\"https://colab.research.google.com/assets/colab-badge.svg\" alt=\"Open In Colab\"/></a>"
      ]
    },
    {
      "cell_type": "markdown",
      "source": [
        "# Introduction"
      ],
      "metadata": {
        "id": "URcE9L8x61mn"
      }
    },
    {
      "cell_type": "markdown",
      "source": [
        "Welcome to the Course on Data Visualization with Python\n"
      ],
      "metadata": {
        "id": "Ag0C8fbzGLdm"
      }
    },
    {
      "cell_type": "markdown",
      "source": [
        "##                     Variables\n",
        "\n",
        "In Python, variables are used to store data values. Variable is a named storage location in the memory for holding a piece of information.\n",
        "\n",
        "Variable names are case-sensitive (e.g., myVar and myvar are different).\n",
        "\n",
        "Variable names must start with a letter (a-z, A-Z) or an underscore (_).\n",
        "\n",
        "Variable names can contain letters, numbers, and underscores.\n",
        "\n",
        "Variables should not contain spaces and special characters.\n",
        "\n",
        "Variable naming has 2 widely used conventions in Python:\n",
        "  - camelCaseVariable\n",
        "  - snake_case_variable\n",
        "\n",
        "Example: age = 25"
      ],
      "metadata": {
        "id": "pTqQTUfqF-Ku"
      }
    },
    {
      "cell_type": "code",
      "execution_count": null,
      "metadata": {
        "id": "G2KwsZbnBnmL",
        "colab": {
          "base_uri": "https://localhost:8080/"
        },
        "outputId": "b1ded364-eebb-4866-c1b2-305711a40a50"
      },
      "outputs": [
        {
          "output_type": "stream",
          "name": "stdout",
          "text": [
            "Age= 25\n",
            "myVar= 20\n",
            "myvar= 17\n",
            "var_score= 100\n"
          ]
        }
      ],
      "source": [
        "# Example 1: age = 25\n",
        "age=25\n",
        "myVar = 20\n",
        "myvar = 17\n",
        "var_score = 100\n",
        "print(\"Age=\",age)\n",
        "print(\"myVar=\",myVar)\n",
        "print(\"myvar=\",myvar)\n",
        "print(\"var_score=\",var_score)\n",
        "\n"
      ]
    },
    {
      "cell_type": "markdown",
      "source": [
        "##  Data Types\n",
        "\n",
        "Python has several built-in data types:\n",
        "\n",
        "int: Integer data type (e.g., 42, -10).\n",
        "\n",
        "float: Floating-point data type (e.g., 3.14, -0.001).\n",
        "\n",
        "str: String data type (e.g., \"Hello, Python\").\n",
        "\n",
        "bool: Boolean data type (True or False)."
      ],
      "metadata": {
        "id": "OlJhR2b-H3na"
      }
    },
    {
      "cell_type": "code",
      "source": [
        "int_x = -10\n",
        "float_y = 3.14\n",
        "str1 = \"hello, Python\"\n",
        "boolean_b = True\n",
        "print(\"Integer x =\",int_x,\"\\nFloat y =\",float_y,\"\\nString str1 = \",str1,\"\\nBoolean b =\",boolean_b)"
      ],
      "metadata": {
        "id": "EzX8aIe_ILoe",
        "colab": {
          "base_uri": "https://localhost:8080/"
        },
        "outputId": "94fec1c8-84f6-416a-c4c4-8a04c97e543f"
      },
      "execution_count": null,
      "outputs": [
        {
          "output_type": "stream",
          "name": "stdout",
          "text": [
            "Integer x = -10 \n",
            "Float y = 3.14 \n",
            "String str1 =  hello, Python \n",
            "Boolean b = True\n"
          ]
        }
      ]
    },
    {
      "cell_type": "markdown",
      "source": [
        "# Variables and Assignment Exercises\n",
        "Do the below in a .py file in Pycharm\n",
        "- Create a vaiable by name int_i and assign it the value 3\n",
        "- Create another variable float_f and assign it the value 2.123\n",
        "- Create a third variable bool_f and assign it the value \"False\"\n",
        "- Reassign a value 5 to int_i\n",
        "\n"
      ],
      "metadata": {
        "id": "mya2GrlJcHDv"
      }
    },
    {
      "cell_type": "code",
      "source": [],
      "metadata": {
        "id": "gEMD8X3hda1z"
      },
      "execution_count": null,
      "outputs": []
    },
    {
      "cell_type": "markdown",
      "source": [
        "# Comments\n",
        "- Comments are annotations in the source code that are ignored by the interpreter during execution.\n",
        "- They are used to provide explanations, documentation, or notes within the code.\n",
        "- Comments are helpful for making the code more readable and understandable, both for the original programmer and for others who might read or maintain the code later.\n",
        "- There are two types of comments in Python\n",
        "  - Single-Line Comments:\n",
        "    - Single-line comments are created using the # symbol.\n",
        "    - Everything following the # on that line is treated as a comment.\n",
        "  - Multiline Comments:\n",
        "    - Python does not have a specific syntax for multi-line comments, but multi-line strings (docstrings) are often used for this purpose.\n",
        "    - Docstrings are enclosed in triple quotes (''' or \"\"\") and are used to document functions, classes, and modules.\n",
        "    - While they are not technically comments, they serve a similar purpose in providing documentation.\n",
        "    - Docstrings are also used to provide documentation for functions and modules, and they can be accessed using the help() function or tools like Sphinx for generating documentation.\n",
        "\n"
      ],
      "metadata": {
        "id": "B-fj5EzUdbcA"
      }
    },
    {
      "cell_type": "code",
      "source": [
        "'''\n",
        "This is a multi-line comment using a docstring.\n",
        "It can span multiple lines.\n",
        "'''\n",
        "print(\"Hello, World!\")"
      ],
      "metadata": {
        "id": "JaTHEZM8ev1O",
        "outputId": "390bfeaa-326c-4f1d-c942-696666c823ef",
        "colab": {
          "base_uri": "https://localhost:8080/"
        }
      },
      "execution_count": null,
      "outputs": [
        {
          "output_type": "stream",
          "name": "stdout",
          "text": [
            "Hello, World!\n"
          ]
        }
      ]
    },
    {
      "cell_type": "markdown",
      "source": [
        "## Arithmetic Operations\n",
        "Python supports various arithmetic operations:\n",
        "\n",
        "Addition (+): Adds two numbers.\n",
        "\n",
        "Subtraction (-): Subtracts the second number from the first.\n",
        "\n",
        "Multiplication (*): Multiplies two numbers.\n",
        "\n",
        "Division (/): Divides the first number by the second (results in a float).\n",
        "\n",
        "Integer Division (//): Divides and truncates to an integer.\n",
        "\n",
        "Modulus (%): Returns the remainder of division.\n",
        "\n",
        "Exponentiation ():** Raises the first number to the power of the second."
      ],
      "metadata": {
        "id": "CEk-DSNCpUNf"
      }
    },
    {
      "cell_type": "code",
      "source": [
        "# Examples\n",
        "x = 10\n",
        "y = 3\n",
        "\n",
        "# Addition\n",
        "addition_result = x + y  # 13\n",
        "print(\"Sum = \",addition_result)\n",
        "\n",
        "# Subtraction\n",
        "subtraction_result = x - y  # 7\n",
        "print(\"Difference = \",subtraction_result)\n",
        "\n",
        "# Multiplication\n",
        "multiplication_result = x * y  # 30\n",
        "print(\"Product = \",multiplication_result)\n",
        "\n",
        "# Division\n",
        "division_result = x / y  # 3.3333...\n",
        "print(\"Quoteint = \",division_result)\n",
        "\n",
        "# Floor Division: Returns only the integer portion of the division result\n",
        "int_division_result = x // y  # 3\n",
        "print(\"Integer Quoteint = \",int_division_result)\n",
        "\n",
        "# Modulo Operation: Returns the remainder\n",
        "modulus_result = x % y  # 1\n",
        "print(\"Remainder = \",modulus_result)\n",
        "\n",
        "# Exponentiation\n",
        "exponentiation_result = x ** y  # 1000\n",
        "print(\"Exp result = \",exponentiation_result)\n"
      ],
      "metadata": {
        "id": "ny3-gczbp8rs",
        "colab": {
          "base_uri": "https://localhost:8080/"
        },
        "outputId": "27ceaeb0-5fa9-4602-cfde-3bd996791c79"
      },
      "execution_count": null,
      "outputs": [
        {
          "output_type": "stream",
          "name": "stdout",
          "text": [
            "Sum =  13\n",
            "Difference =  7\n",
            "Product =  30\n",
            "Quoteint =  3.3333333333333335\n",
            "Integer Quoteint =  3\n",
            "Remainder =  1\n",
            "Exp result =  1000\n"
          ]
        }
      ]
    },
    {
      "cell_type": "markdown",
      "source": [
        "# Assignment Operators\n",
        "  - The basic assignment operator is the equal sign (=), but there are also compound assignment operators that combine the assignment operation with another operation.\n",
        "    - Addition Assignment (+=)\n",
        "    - Subtraction Assignment (-=)\n",
        "    - Multiplication Assignment (*=)\n",
        "    - Division Assignment (/=)\n",
        "    - Floor Division Assignment (//=)\n",
        "    - Modulus Assignment (%=)\n",
        "    - Exponentiation Assignment (**=)\n",
        "\n"
      ],
      "metadata": {
        "id": "QJhLrvVbgIhn"
      }
    },
    {
      "cell_type": "code",
      "source": [
        "x += 5  # Equivalent to x = x + 5\n",
        "x -= 3  # Equivalent to x = x - 3\n",
        "x *= 2  # Equivalent to x = x * 2\n",
        "x /= 4  # Equivalent to x = x / 4\n",
        "x //= 3  # Equivalent to x = x // 3\n",
        "x %= 2  # Equivalent to x = x % 2\n",
        "x **= 3  # Equivalent to x = x ** 3"
      ],
      "metadata": {
        "id": "wtLjRmJUg1Rt"
      },
      "execution_count": null,
      "outputs": []
    },
    {
      "cell_type": "markdown",
      "source": [
        "# Operator Precedence\n",
        "| Precedence | Operator(s)                          | Description                      |\n",
        "|------------|--------------------------------------|----------------------------------|\n",
        "| 1          | `()`                                 | Parentheses                      |\n",
        "| 2          | `f(args...)`, `x[index]`, `x.attr`    | Function calls, Slicing, Attributes |\n",
        "| 3          | `**`                                 | Exponentiation                   |\n",
        "| 4          | `+x`, `-x`, `~x`                     | Unary plus, Unary minus, Bitwise NOT |\n",
        "| 5          | `*`, `/`, `//`, `%`                  | Multiplication, Division, Floor division, Modulus |\n",
        "| 6          | `+`, `-`                             | Addition, Subtraction            |\n",
        "| 7          | `<<`, `>>`                           | Bitwise shift operators          |\n",
        "| 8          | `&`                                  | Bitwise AND                      |\n",
        "| 9          | `^`                                  | Bitwise XOR                      |\n",
        "| 10         | `|`                                  | Bitwise OR                       |\n",
        "| 11         | `in`, `not in`, `is`, `is not`, `<`, `<=`, `>`, `>=`, `!=`, `==` | Comparison operators |\n",
        "| 12         | `not x`                              | Logical NOT                      |\n",
        "| 13         | `and`                                | Logical AND                      |\n",
        "| 14         | `or`                                 | Logical OR                       |\n",
        "| 15         | `if-else`                            | Conditional expression           |\n",
        "| 16         | `lambda`                             | Lambda expression                |\n",
        "| 17         | `:=`                                 | Assignment expression (walrus operator) |\n",
        "| 18         | `=`                                  | Assignment                       |\n",
        "| 19         | `yield`, `yield from`                | Yield expressions                |\n",
        "| 20         | `if`, `elif`, `else`                 | Conditional statements           |\n",
        "| 21         | `for`, `while`                       | Loops                            |\n",
        "| 22         | `or`                                 | Boolean OR                       |\n",
        "| 23         | `and`                                | Boolean AND                      |\n",
        "| 24         | `not`                                | Boolean NOT                      |\n"
      ],
      "metadata": {
        "id": "c8UjBaHgiEOM"
      }
    },
    {
      "cell_type": "markdown",
      "source": [
        "Expression Evaluation\n",
        "\n",
        " Example:\n",
        "\n",
        "(5 + 2) * 3 ** 2 - 4 % 2 // 1 + 3\n",
        "- Step 1: 7 * 3 ** 2 - 4 % 2 // 1 + 3\n",
        "- Step 2: 7 * 9 - 4 % 2 // 1 + 3\n",
        "- Step 3: 63 - 0 + 3\n",
        "- Step 4: 66\n",
        "\n",
        "\n"
      ],
      "metadata": {
        "id": "bBfV5Rz-jsqh"
      }
    },
    {
      "cell_type": "code",
      "source": [
        "result_a = 2 ** 4 - 7 * 3 + 15 % 4 // 2\n",
        "result_b = 8 - 4 * 2 ** 2 + 5 % 3 // -1\n",
        "result_c = 3 ** 2 - 1 + 7 * 4 % 2 // 2\n",
        "result_d = 6 // 2 + 4 * 3 ** 2 - 5 % 2"
      ],
      "metadata": {
        "id": "KdLHb9GAipZm"
      },
      "execution_count": null,
      "outputs": []
    },
    {
      "cell_type": "markdown",
      "source": [
        "# print()\n",
        "- In Python, the print() function is used to display output to the console.\n",
        "- You can use it to print values, variables, or any expression you want to see the result of.\n",
        "- Here are some examples of using the print() function\n"
      ],
      "metadata": {
        "id": "KxTxEuxll6Lx"
      }
    },
    {
      "cell_type": "code",
      "source": [
        "# Print a string\n",
        "print(\"Hello, World!\")\n",
        "\n",
        "# Print Variables\n",
        "name = \"John\"\n",
        "age = 25\n",
        "print(\"Name:\", name)\n",
        "print(\"Age:\", age)\n",
        "\n",
        "#Print Expressions\n",
        "x = 5\n",
        "y = 10\n",
        "print(\"Sum:\", x + y)\n",
        "\n",
        "#Multiple Arguments\n",
        "a = 3\n",
        "b = 7\n",
        "c = 12\n",
        "print(\"Values:\", a, b, c)\n",
        "\n",
        "#Printing on Multiple lines\n",
        "print(\"Line 1\")\n",
        "print(\"Line 2\")\n",
        "\n",
        "#Print() can be used to insert blank lines\n",
        "print(\"Line 3\")\n",
        "print()\n",
        "print(\"a blank inserted and this is Line 4\")"
      ],
      "metadata": {
        "id": "hrZAf17jmK2J",
        "outputId": "e7cb5ff6-79c7-4ad7-cf26-92c7316ad34e",
        "colab": {
          "base_uri": "https://localhost:8080/"
        }
      },
      "execution_count": null,
      "outputs": [
        {
          "output_type": "stream",
          "name": "stdout",
          "text": [
            "Hello, World!\n",
            "Name: John\n",
            "Age: 25\n",
            "Sum: 15\n",
            "Values: 3 7 12\n",
            "Line 1\n",
            "Line 2\n",
            "Line 3\n",
            "\n",
            "a blank inserted and this is Line 4\n"
          ]
        }
      ]
    },
    {
      "cell_type": "markdown",
      "source": [
        "## Strings\n",
        "\n",
        "Strings are sequences of characters enclosed in single (') or double (\") quotes.\n",
        "\n",
        "You can concatenate strings using the + operator.\n",
        "\n",
        "Strings are indexed from 0 (e.g., \"Hello\"[0] returns 'H').\n",
        "\n",
        "String slicing allows you to extract substrings (e.g., \"Hello\"[1:4] returns \"ell\")."
      ],
      "metadata": {
        "id": "w7aJzPrwrF4U"
      }
    },
    {
      "cell_type": "code",
      "source": [
        "# Define two strings\n",
        "str1 = \"Hello\"\n",
        "str2 = \"World\"\n",
        "\n",
        "# Concatenate strings using the + operator\n",
        "concatenated_str = str1 + str2\n",
        "concatenated_str1 = str1 + \", \" + str2\n",
        "print(\"Concatenated Strings are:\")\n",
        "print(concatenated_str)\n",
        "print(concatenated_str1)\n",
        "\n",
        "# Access individual characters in a string using indexing\n",
        "first_char = str1[0]\n",
        "print(\"First Character:\", first_char)\n",
        "#print(str1[15]) results in Index out of range error\n",
        "\n",
        "# String slicing to extract substrings\n",
        "substring = str1[1:4] #starting index is inclusive and ending index is exclusive\n",
        "print(\"Substring:\", substring)\n",
        "\n",
        "# Length of a string\n",
        "str_length = len(str1)\n",
        "print(\"Length of str1:\", str_length)\n",
        "\n",
        "# Check if a substring exists in a string\n",
        "if \"lo\" in str1:\n",
        "    print(\"Substring 'lo' found in str1\")\n",
        "\n",
        "# String repetition\n",
        "repeated_str = str1 * 3\n",
        "print(\"Repeated String:\", repeated_str)\n",
        "\n",
        "# String formatting - allows to embed expressions inside string literals using curly braces {}.\n",
        "# When the string is evaluated, the expression is replaced with the value\n",
        "name = \"Alice\"\n",
        "age = 30\n",
        "formatted_str = f\"My name is {name} and I am {age} years old.\"\n",
        "print(\"Formatted String:\", formatted_str)\n",
        "\n",
        "# String methods\n",
        "uppercase_str = str1.upper()\n",
        "print(\"Uppercase String:\", uppercase_str)\n",
        "\n",
        "lowercase_str = str2.lower()\n",
        "print(\"Lowercase String:\", lowercase_str)\n",
        "\n",
        "# Splitting a string into a list\n",
        "sentence = \"This is a sample sentence.\"\n",
        "words = sentence.split(\" \")\n",
        "print(\"Split Sentence:\", words)\n"
      ],
      "metadata": {
        "id": "CTxzhzcurMFV",
        "outputId": "95fdc96d-9de7-436e-fc54-87233e3f727c",
        "colab": {
          "base_uri": "https://localhost:8080/"
        }
      },
      "execution_count": null,
      "outputs": [
        {
          "output_type": "stream",
          "name": "stdout",
          "text": [
            "Concatenated Strings are:\n",
            "HelloWorld\n",
            "Hello, World\n",
            "First Character: H\n",
            "Substring: ell\n",
            "Length of str1: 5\n",
            "Substring 'lo' found in str1\n",
            "Repeated String: HelloHelloHello\n",
            "Formatted String: My name is Alice and I am 30 years old.\n",
            "Uppercase String: HELLO\n",
            "Lowercase String: world\n",
            "Split Sentence: ['This', 'is', 'a', 'sample', 'sentence.']\n"
          ]
        }
      ]
    },
    {
      "cell_type": "markdown",
      "source": [
        "## Conditional Logic\n",
        "\n",
        "Python uses conditional statements to control the flow of a program:\n",
        "\n",
        "if: Executes a block of code if a condition is True.\n",
        "\n",
        "elif: Short for \"else if,\" it is used to check additional conditions.\n",
        "\n",
        "else: Executes a block of code if none of the previous conditions are True."
      ],
      "metadata": {
        "id": "NLYQ6Szlz0tf"
      }
    },
    {
      "cell_type": "code",
      "source": [
        "# Example\n",
        "age = 20\n",
        "\n",
        "if age < 18:\n",
        "    print(\"You are a minor.\")\n",
        "elif age >= 18 and age < 65:\n",
        "    print(\"You are an adult.\")\n",
        "else:\n",
        "    print(\"You are a senior citizen.\")"
      ],
      "metadata": {
        "id": "Q_j161FGz-oo",
        "colab": {
          "base_uri": "https://localhost:8080/"
        },
        "outputId": "b173397b-772b-4f81-8c2f-5a0fddbcd3ba"
      },
      "execution_count": null,
      "outputs": [
        {
          "output_type": "stream",
          "name": "stdout",
          "text": [
            "You are an adult.\n"
          ]
        }
      ]
    },
    {
      "cell_type": "markdown",
      "source": [
        "## Logical Operators\n",
        "\n",
        "and: Returns True if both conditions are True.\n",
        "\n",
        "\n",
        " Truth Table for and operator\n",
        "\n",
        " | A     | B     | A and B |\n",
        "|-------|-------|---------|\n",
        "| True  | True  | True    |\n",
        "| True  | False | False   |\n",
        "| False | True  | False   |\n",
        "| False | False | False   |\n",
        "\n",
        "or: Returns True if at least one condition is True.\n",
        "\n",
        "Truth table for or operator\n",
        "\n",
        "| A     | B     | A or B |\n",
        "|-------|-------|---------|\n",
        "| True  | True  | True    |\n",
        "| True  | False | True   |\n",
        "| False | True  | True   |\n",
        "| False | False | False   |\n",
        "\n",
        "not: Reverses the condition.\n",
        "\n",
        "| A     | not A |\n",
        "|-------|-------|\n",
        "| True  | False |\n",
        "| False | True  |\n",
        "\n",
        "\n"
      ],
      "metadata": {
        "id": "re1taW4k0Dl3"
      }
    },
    {
      "cell_type": "code",
      "source": [
        "# Example\n",
        "x = 5\n",
        "y = 10\n",
        "\n",
        "if x > 0 and y > 0:\n",
        "    print(\"Both x and y are positive.\")"
      ],
      "metadata": {
        "id": "Jf0_cSuD0G90",
        "colab": {
          "base_uri": "https://localhost:8080/"
        },
        "outputId": "91c12ef1-3fe6-4715-d400-2e6b1943fb48"
      },
      "execution_count": null,
      "outputs": [
        {
          "output_type": "stream",
          "name": "stdout",
          "text": [
            "Both x and y are positive.\n"
          ]
        }
      ]
    },
    {
      "cell_type": "markdown",
      "source": [
        "Exercise\n",
        "\n",
        "Write a Python program to create a virtual coin toss predictor. Follow the instructions below:\n",
        "\n",
        "- Import the random module to simulate a coin toss.\n",
        "\n",
        "- Use random.choice([0, 1]) to represent the outcome of the coin toss, where 0 represents tails and 1 represents heads.\n",
        "\n",
        "- Prompt the user to enter their prediction for the coin toss. Ensure the input is in lowercase.\n",
        "\n",
        "- Utilize binary boolean operators to compare the user's prediction with the simulated coin toss:\n",
        "\n",
        "  - If the user predicts \"heads\" and the coin toss is 1, or\n",
        "  - If the user predicts \"tails\" and the coin toss is 0.\n",
        "- Display the appropriate message based on the correctness of the prediction:\n",
        "\n",
        "  - If the prediction is correct, print \"Congratulations! You predicted correctly.\"\n",
        "  - If the prediction is incorrect, print \"Sorry, your prediction is incorrect.\""
      ],
      "metadata": {
        "id": "H13v5KV74QB6"
      }
    },
    {
      "cell_type": "code",
      "source": [],
      "metadata": {
        "id": "ggqWVxgI0b8l"
      },
      "execution_count": null,
      "outputs": []
    },
    {
      "cell_type": "markdown",
      "source": [
        "#Comparison Operators\n",
        "\n",
        "Comparison operators, also called relational operators, compare two values and evaluate down to a single Boolean value. Table below lists the comparison operators.\n",
        "\n",
        "| Operator | Description            | Example           |\n",
        "|----------|------------------------|-------------------|\n",
        "| `==`     | Equal                  | `x == y`          |\n",
        "| `!=`     | Not equal              | `x != y`          |\n",
        "| `<`      | Less than              | `x < y`           |\n",
        "| `>`      | Greater than           | `x > y`           |\n",
        "| `<=`     | Less than or equal to  | `x <= y`          |\n",
        "| `>=`     | Greater than or equal to | `x >= y`         |\n",
        "\n"
      ],
      "metadata": {
        "id": "WQhSrZl47THx"
      }
    },
    {
      "cell_type": "code",
      "source": [
        "# Equal (==)\n",
        "x = 5\n",
        "y = 5\n",
        "print(x == y)  # Output: True\n",
        "\n",
        "# Not equal (!=)\n",
        "a = 10\n",
        "b = 20\n",
        "print(a != b)  # Output: True\n",
        "\n",
        "# Less than (<)\n",
        "m = 15\n",
        "n = 20\n",
        "print(m < n)   # Output: True\n",
        "\n",
        "# Greater than (>)\n",
        "p = 25\n",
        "q = 15\n",
        "print(p > q)   # Output: True\n",
        "\n",
        "# Less than or equal to (<=)\n",
        "r = 30\n",
        "s = 30\n",
        "print(r <= s)  # Output: True\n",
        "\n",
        "# Greater than or equal to (>=)\n",
        "u = 35\n",
        "v = 30\n",
        "print(u >= v)  # Output: True\n"
      ],
      "metadata": {
        "id": "18FHUW0S7put"
      },
      "execution_count": null,
      "outputs": []
    },
    {
      "cell_type": "markdown",
      "source": [
        "Exercise\n",
        "\n",
        "Imagine a game where you (the user) and the computer each roll a six-sided die, and the player with the higher roll wins. If both players roll the same number, it's a tie. Write Python code to simulate this game:\n",
        "\n",
        "- Prompt the user to input their roll (assume the range is 1 to 6).\n",
        "- Use the random module to generate a random number representing the computer's roll.\n",
        "- Print the results of the user's and computer's rolls.\n",
        "- Compare the rolls and print the result:\n",
        "- If the user has a higher roll, print \"You win!\"\n",
        "- If the computer has a higher roll, print \"Computer wins!\"\n",
        "- If both the user and computer have the same roll, print \"It's a tie!\"\n"
      ],
      "metadata": {
        "id": "J47hBpTk7yC5"
      }
    },
    {
      "cell_type": "code",
      "source": [],
      "metadata": {
        "id": "Zzyy85Id77pT"
      },
      "execution_count": null,
      "outputs": []
    },
    {
      "cell_type": "markdown",
      "source": [
        "## Input\n",
        "\n",
        "Using input()\n",
        "\n",
        "Programming Construct: User Input"
      ],
      "metadata": {
        "id": "3CNhoTXHDfou"
      }
    },
    {
      "cell_type": "code",
      "source": [
        "# Get user input and store it in a variable\n",
        "user_name = input(\"Enter your name: \")\n",
        "\n",
        "# Display a message using the user's input\n",
        "print(\"Hello, \" + user_name + \"!\")\n",
        "\n",
        "# You can also directly use the input without storing it in a variable\n",
        "user_age = input(\"Enter your age: \")\n",
        "\n",
        "# Remember that input() returns a string, so if you need to work with numbers, convert it\n",
        "user_age = int(user_age)\n",
        "\n",
        "# Perform some operations with the user's age\n",
        "next_age = user_age + 1\n",
        "print(\"In the next year, you will be \" + str(next_age) + \" years old.\")\n",
        "\n",
        "#Evaluates an expression and prints the results\n",
        "print((4+8)/3)\n"
      ],
      "metadata": {
        "id": "fRPrBKhGDhbq",
        "colab": {
          "base_uri": "https://localhost:8080/"
        },
        "outputId": "77b68b6d-8272-4856-bb84-cd3ef5e9a0ff"
      },
      "execution_count": null,
      "outputs": [
        {
          "output_type": "stream",
          "name": "stdout",
          "text": [
            "Enter your name: Abc\n",
            "Hello, Abc!\n",
            "Enter your age: 23\n",
            "In the next year, you will be 24 years old.\n",
            "4.0\n"
          ]
        }
      ]
    },
    {
      "cell_type": "markdown",
      "source": [
        "Exercise\n",
        "\n",
        "1. Develop a program that takes the user's favorite color and animal as input, then prints a message like \"Your favorite color is [color], and your favorite animal is [animal].\"\n",
        "\n",
        "2. Create a program that takes two numbers as input from the user, calculates their sum, and prints the result.\n"
      ],
      "metadata": {
        "id": "h0flIdMmj8jO"
      }
    },
    {
      "cell_type": "code",
      "source": [
        "#Program 1"
      ],
      "metadata": {
        "id": "6T0-2ZuRkRVO"
      },
      "execution_count": null,
      "outputs": []
    },
    {
      "cell_type": "code",
      "source": [
        "#Program 2"
      ],
      "metadata": {
        "id": "1RefIrGdkR8e"
      },
      "execution_count": null,
      "outputs": []
    },
    {
      "cell_type": "markdown",
      "source": [
        "## Data Conversion or Type Casting\n",
        "\n",
        "Type casting or data conversion allows you to change the data type of a variable."
      ],
      "metadata": {
        "id": "edvcpLkPE5pL"
      }
    },
    {
      "cell_type": "code",
      "source": [
        "# Example 1: Converting String to Integer\n",
        "str_number = \"42\"\n",
        "int_number = int(str_number)  # Convert string to integer\n",
        "print(\"Integer:\", int_number)"
      ],
      "metadata": {
        "id": "yxeFrMPaFDrN",
        "colab": {
          "base_uri": "https://localhost:8080/"
        },
        "outputId": "6a87b040-63e1-4f17-9855-aee510604c38"
      },
      "execution_count": null,
      "outputs": [
        {
          "output_type": "stream",
          "name": "stdout",
          "text": [
            "Integer: 42\n"
          ]
        }
      ]
    },
    {
      "cell_type": "code",
      "source": [
        "# Example 2: Converting Integer to String\n",
        "int_value = 123\n",
        "str_value = str(int_value)  # Convert integer to string\n",
        "print(\"String:\", str_value)"
      ],
      "metadata": {
        "id": "Ue274HtBFJ6G",
        "colab": {
          "base_uri": "https://localhost:8080/"
        },
        "outputId": "5992adce-b714-481e-bfef-856e9950524b"
      },
      "execution_count": null,
      "outputs": [
        {
          "output_type": "stream",
          "name": "stdout",
          "text": [
            "String: 123\n"
          ]
        }
      ]
    },
    {
      "cell_type": "code",
      "source": [
        "# Example 3: Converting Float to Integer\n",
        "float_number = 3.14\n",
        "int_from_float = int(float_number)  # Convert float to integer (truncates decimal part)\n",
        "print(\"Integer from Float:\", int_from_float)"
      ],
      "metadata": {
        "id": "fL6XHlkaFMZN",
        "colab": {
          "base_uri": "https://localhost:8080/"
        },
        "outputId": "ac7f38db-cd82-4749-9141-c2fa58ad2dac"
      },
      "execution_count": null,
      "outputs": [
        {
          "output_type": "stream",
          "name": "stdout",
          "text": [
            "Integer from Float: 3\n"
          ]
        }
      ]
    },
    {
      "cell_type": "code",
      "source": [
        "# Example 4: Converting Integer to Float\n",
        "int_value = 42\n",
        "float_from_int = float(int_value)  # Convert integer to float\n",
        "print(\"Float from Integer:\", float_from_int)"
      ],
      "metadata": {
        "id": "caVajHVIFPl1",
        "colab": {
          "base_uri": "https://localhost:8080/"
        },
        "outputId": "12093dfb-3f96-47f1-dd01-0308f98d8484"
      },
      "execution_count": null,
      "outputs": [
        {
          "output_type": "stream",
          "name": "stdout",
          "text": [
            "Float from Integer: 42.0\n"
          ]
        }
      ]
    },
    {
      "cell_type": "code",
      "source": [
        "# Example 5: Converting Integer to Boolean\n",
        "value = 0\n",
        "bool_value = bool(value)  # Convert integer to boolean (0 becomes False, non-zero becomes True)\n",
        "print(\"Boolean from Integer:\", bool_value)"
      ],
      "metadata": {
        "id": "6MIjYcaoFSq8",
        "colab": {
          "base_uri": "https://localhost:8080/"
        },
        "outputId": "79af14e3-f9af-485e-e009-ba385b1551b7"
      },
      "execution_count": null,
      "outputs": [
        {
          "output_type": "stream",
          "name": "stdout",
          "text": [
            "Boolean from Integer: False\n"
          ]
        }
      ]
    },
    {
      "cell_type": "markdown",
      "source": [
        "Write a Python program to convert temperatures between Celsius and Fahrenheit.\n",
        "\n",
        "Use the formula:\n",
        "\n",
        "- Celsius to Fahrenheit: F = C * 9/5 + 32\n",
        "- Fahrenheit to Celsius: C = (F - 32) * 5/9\n",
        "1. Prompt the user to enter a temperature and specify the unit (Celsius or Fahrenheit).\n",
        "\n",
        "2. Use type casting to convert the entered temperature to a numerical value.\n",
        "\n",
        "3. Use binary boolean operators to check if the entered unit is Celsius or Fahrenheit.\n",
        "\n",
        "4. Convert the temperature to the other unit using the appropriate formula.\n",
        "\n",
        "5. Print the converted temperature along with the original unit and the converted unit.\n",
        "\n"
      ],
      "metadata": {
        "id": "76MLTz9LBkL1"
      }
    },
    {
      "cell_type": "code",
      "source": [
        "\n"
      ],
      "metadata": {
        "id": "RSEkCZTCBvmu"
      },
      "execution_count": 48,
      "outputs": []
    }
  ]
}