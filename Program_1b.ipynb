{
  "nbformat": 4,
  "nbformat_minor": 0,
  "metadata": {
    "colab": {
      "provenance": []
    },
    "kernelspec": {
      "name": "python3",
      "display_name": "Python 3"
    },
    "language_info": {
      "name": "python"
    }
  },
  "cells": [
    {
      "cell_type": "code",
      "execution_count": null,
      "metadata": {
        "id": "tH7cdscsOuRS"
      },
      "outputs": [],
      "source": []
    },
    {
      "cell_type": "markdown",
      "source": [
        "##Program 1.b\n",
        "**Problem Statement:**\n",
        "\n",
        "Develop a Python program to check whether a given number is palindrome or not and also count the number of occurrences of each digit in the input number.\n",
        "\n",
        "**Introduction**\n",
        "\n",
        "Let's create a Python program that allows the user to enter a number. We will check if the number is a palindrome (reads the same forwards and backwards) and count how many times each digit appears in the number.\n",
        "\n",
        "## Example\n",
        "\n",
        "### Example 1\n",
        "Suppose we input the value 121.\n",
        "\n",
        "The program will first check if the number is a palindrome, which it is because 121 reads the same forwards and backwards.\n",
        "\n",
        "**Output**: 121 is a palindrome.\n",
        "\n",
        "It will then count how many times each digit appears in the number:\n",
        "\n",
        "- Digit 1 appears 2 times.\n",
        "- Digit 2 appears 1 time.\n",
        "\n",
        "### Example 2\n",
        "Suppose we input the value 112.\n",
        "\n",
        "The program will first check if the number is a palindrome, which it is not because 112 does not read the same forwards and backwards.\n",
        "\n",
        "**Output**: 112 is not a palindrome.\n",
        "\n",
        "It will then count how many times each digit appears in the number:\n",
        "\n",
        "- Digit 1 appears 2 times.\n",
        "- Digit 2 appears 1 time.\n"
      ],
      "metadata": {
        "id": "Dtm51yJTOzGA"
      }
    },
    {
      "cell_type": "markdown",
      "source": [
        "##Step 1: Accept the User Input\n",
        "Instruct the user to input a value using the input() function. The input() function should be used to capture user input, and int() should be used to convert the input to an integer data type. This conversion is essential because we want to work with the numeric value entered by the user. Accepted user input should be stored in variable \"val\"."
      ],
      "metadata": {
        "id": "glqRGMN7TMDv"
      }
    },
    {
      "cell_type": "code",
      "source": [],
      "metadata": {
        "id": "T536qQTMZVRr"
      },
      "execution_count": null,
      "outputs": []
    },
    {
      "cell_type": "markdown",
      "source": [
        "##Step 2: Convert to String\n",
        "In this step, the program converts the integer value `val` to a string data type using the `str()` function. This conversion is necessary because we need to manipulate individual digits of the value to check for palindromes.\n",
        "Store the converted value in the variable \"str_val\"."
      ],
      "metadata": {
        "id": "Q6JN0yxuTlqX"
      }
    },
    {
      "cell_type": "code",
      "execution_count": null,
      "metadata": {
        "id": "-0JPIFFaOvFQ"
      },
      "outputs": [],
      "source": []
    },
    {
      "cell_type": "markdown",
      "source": [
        "##Step 3: Check if the string is a palindrome:\n",
        "\n",
        "String Slicing and Indexing Explanation:\n",
        "\n",
        "String indexing in Python starts at 0, meaning the first character in a string has an index of 0, the second character has an index of 1, and so on.\n",
        "\n",
        "Negative indices can be used to count characters from the end of the string. -1 represents the last character, -2 represents the second-to-last character, and so forth.\n",
        "\n",
        "String slicing allows us to extract a portion of a string by specifying a range of indices. The syntax for slicing is string[start:stop:step], where:\n",
        "\n",
        "start: The index at which the slice begins (inclusive).\n",
        "\n",
        "stop: The index at which the slice ends (exclusive).\n",
        "\n",
        "step: The increment between characters (default is 1).\n",
        "\n",
        "When we use [::-1] as the slicing syntax, it means:\n",
        "start is not specified, so it starts from the beginning of the string.\n",
        "stop is not specified, so it goes to the end of the string.\n",
        "step is -1, which means it reverses the string by moving backward one character at a time.\n",
        "\n",
        "Example:\n",
        "\n",
        "Suppose the user enters the value 12321 as input.\n",
        "Here's what happens in terms of string slicing and indexing:\n",
        "\n",
        "str_val becomes \"12321\" (the string representation of the input).\n",
        "\n",
        "str_val[::-1] reverses the string, resulting in \"12321\".\n",
        "\n",
        "The if statement compares \"12321\" (original) with \"12321\" (reversed), and they are equal, indicating that the input is a palindrome.\n",
        "\n",
        "If the input were \"12345\", the comparison would be \"12345\" (original) vs. \"54321\" (reversed), and they would not be equal, indicating that the input is not a palindrome.\n",
        "\n",
        "if str_val = str_val[::-1]\n",
        "then print \"Palindrome\"\n",
        "else\n",
        "print \"Not Palindrome\""
      ],
      "metadata": {
        "id": "azTsC1MiTySc"
      }
    },
    {
      "cell_type": "code",
      "source": [],
      "metadata": {
        "id": "FRmp9zbtVJL_"
      },
      "execution_count": null,
      "outputs": []
    },
    {
      "cell_type": "markdown",
      "source": [
        "##Step 4:Count and Display Digit Occurrences\n",
        "\n",
        "We'll use a for loop to iterate through digits from 0 to 9:\n",
        "\n",
        "\n",
        "for i in range(10):\n",
        "\n",
        "This for loop iterates through the values of i from 0 to 9 (inclusive). In each iteration, i represents one of the digits (0, 1, 2, ..., 9) we want to count.\n",
        "\n",
        "In the next step, we use the str_val.count(i) expression to count the number of times the current digit represented by i occurs in the input string str_val.\n",
        "\n",
        "The count() method returns the count of occurrences of the specified substring (in this case, the string representation of the digit) within the larger string.\n",
        "\n",
        "We have to check if the count is greater than 0 to ensure that the digit exists in the input. If it does, we proceed to display its count as \" i appears str_val.count(i) times\"\n",
        "\n"
      ],
      "metadata": {
        "id": "VWuAZpj7W91L"
      }
    },
    {
      "cell_type": "code",
      "source": [],
      "metadata": {
        "id": "gLmxiC0ZeKAA"
      },
      "execution_count": null,
      "outputs": []
    }
  ]
}