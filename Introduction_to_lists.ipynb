{
  "nbformat": 4,
  "nbformat_minor": 0,
  "metadata": {
    "colab": {
      "provenance": [],
      "authorship_tag": "ABX9TyP8/g0jSdq8Ruk0ajndmrc/",
      "include_colab_link": true
    },
    "kernelspec": {
      "name": "python3",
      "display_name": "Python 3"
    },
    "language_info": {
      "name": "python"
    }
  },
  "cells": [
    {
      "cell_type": "markdown",
      "metadata": {
        "id": "view-in-github",
        "colab_type": "text"
      },
      "source": [
        "<a href=\"https://colab.research.google.com/github/ShilpaVasista/BCS358D/blob/main/Introduction_to_lists.ipynb\" target=\"_parent\"><img src=\"https://colab.research.google.com/assets/colab-badge.svg\" alt=\"Open In Colab\"/></a>"
      ]
    },
    {
      "cell_type": "markdown",
      "source": [
        "# Lists in Python\n",
        "\n",
        "## Introduction\n",
        "\n",
        "In Python, a list is a versatile and commonly used data structure that allows you to store and manipulate collections of items. Lists are mutable, ordered, and can contain elements of different data types. In this chapter, we'll explore the basics of working with lists, including creating lists, accessing elements, and performing common operations.\n",
        "\n",
        "## Creating Lists\n",
        "\n",
        "To create a list in Python, use square brackets `[]` and separate elements with commas. Here's an example:\n",
        "\n",
        "```python\n",
        "my_list = [1, 2, 3, 4, 5]\n"
      ],
      "metadata": {
        "id": "nmjXCItdul1R"
      }
    },
    {
      "cell_type": "code",
      "execution_count": null,
      "metadata": {
        "id": "hbx7dZzlueYe"
      },
      "outputs": [],
      "source": [
        "my_list = [1, 2, 3, 4, 5]"
      ]
    },
    {
      "cell_type": "markdown",
      "source": [
        "## Accessing Elements\n",
        "Elements in a list are accessed using their index. Python uses zero-based indexing, meaning the first element is at index 0. Here's how you access elements:"
      ],
      "metadata": {
        "id": "TZt_CRaiuzAh"
      }
    },
    {
      "cell_type": "code",
      "source": [
        "print(my_list[2])  # Output: 3"
      ],
      "metadata": {
        "id": "tNYrfdLYu7bG"
      },
      "execution_count": null,
      "outputs": []
    },
    {
      "cell_type": "markdown",
      "source": [
        "# More on Lists\n",
        "  ## 1. Modifying Elements\n",
        "Lists are mutable, which means you can change their elements. For example:"
      ],
      "metadata": {
        "id": "NVSU6F5SvAgb"
      }
    },
    {
      "cell_type": "code",
      "source": [
        "my_list[1] = 10\n",
        "print(my_list)  # Output: [1, 10, 3, 4, 5]"
      ],
      "metadata": {
        "id": "Eo83BeCjvIPj"
      },
      "execution_count": null,
      "outputs": []
    },
    {
      "cell_type": "code",
      "source": [],
      "metadata": {
        "id": "pfpii_KgZt9i"
      },
      "execution_count": null,
      "outputs": []
    },
    {
      "cell_type": "markdown",
      "source": [
        "## 2. Adding Elements\n",
        "You can add elements to the end of a list using the append() method:"
      ],
      "metadata": {
        "id": "jQUQDXb7vMTB"
      }
    },
    {
      "cell_type": "code",
      "source": [
        "my_list.append(6)\n",
        "print(my_list)  # Output: [1, 10, 3, 4, 5, 6]"
      ],
      "metadata": {
        "id": "nkbTGp05vOik"
      },
      "execution_count": null,
      "outputs": []
    },
    {
      "cell_type": "markdown",
      "source": [
        "## 3. List Concatenation\n",
        "Lists can be concatenated using the + operator:"
      ],
      "metadata": {
        "id": "8Ssp8ww1vS--"
      }
    },
    {
      "cell_type": "code",
      "source": [
        "new_list = my_list + [7, 8, 9]\n",
        "print(new_list)  # Output: [1, 10, 3, 4, 5, 6, 7, 8, 9]"
      ],
      "metadata": {
        "id": "9SqH5yiuvZYw"
      },
      "execution_count": null,
      "outputs": []
    },
    {
      "cell_type": "markdown",
      "source": [
        "## 4. List Slicing\n",
        "List slicing allows you to create a new list by extracting a portion of an existing list. Here are some examples:"
      ],
      "metadata": {
        "id": "iSSMji8IvcV0"
      }
    },
    {
      "cell_type": "code",
      "source": [
        "subset = my_list[1:4]\n",
        "print(subset)  # Output: [10, 3, 4]\n",
        "\n",
        "every_second = my_list[::2]\n",
        "print(every_second)  # Output: [1, 3, 5]\n"
      ],
      "metadata": {
        "id": "lxvNSIEQvfZn"
      },
      "execution_count": null,
      "outputs": []
    },
    {
      "cell_type": "markdown",
      "source": [
        "## 5. extend(iterable)\n",
        "Extends the list by appending elements from the iterable."
      ],
      "metadata": {
        "id": "thUOmK0FWGY7"
      }
    },
    {
      "cell_type": "code",
      "source": [
        "my_list = [1, 2, 3]\n",
        "my_list.extend([4, 5, 6])\n",
        "print(my_list)"
      ],
      "metadata": {
        "id": "4gmM0QWsWU37"
      },
      "execution_count": null,
      "outputs": []
    },
    {
      "cell_type": "markdown",
      "source": [
        "##6. insert(i, x)\n",
        "Inserts an element x at the specified position i in the list."
      ],
      "metadata": {
        "id": "kSmEnJmzWYlT"
      }
    },
    {
      "cell_type": "code",
      "source": [
        "my_list = [1, 2, 3]\n",
        "my_list.insert(1, 4)\n",
        "print(my_list)"
      ],
      "metadata": {
        "id": "6A2CWFCbWkMU"
      },
      "execution_count": null,
      "outputs": []
    },
    {
      "cell_type": "markdown",
      "source": [
        "##7. remove(x)\n",
        "\n",
        "Removes the first occurrence of element x from the list."
      ],
      "metadata": {
        "id": "XNJSysMWWtSZ"
      }
    },
    {
      "cell_type": "code",
      "source": [
        "my_list = [1, 2, 3, 2, 4]\n",
        "my_list.remove(2)\n",
        "print(my_list)"
      ],
      "metadata": {
        "id": "_OSdZo0JWz-J"
      },
      "execution_count": null,
      "outputs": []
    },
    {
      "cell_type": "markdown",
      "source": [
        "##8. pop([i])\n",
        "\n",
        "Removes and returns the element at index i. If no index is specified, it removes and returns the last element."
      ],
      "metadata": {
        "id": "2Lp4Bu7eXAPm"
      }
    },
    {
      "cell_type": "code",
      "source": [
        "my_list = [1, 2, 3, 4]\n",
        "popped_element = my_list.pop(1)\n",
        "print(my_list)\n",
        "print(popped_element)"
      ],
      "metadata": {
        "id": "y5TWoFyoXFfa"
      },
      "execution_count": null,
      "outputs": []
    },
    {
      "cell_type": "markdown",
      "source": [
        "##9.count(x)\n",
        "\n",
        "Returns the number of occurrences of element x in the list."
      ],
      "metadata": {
        "id": "4uw8uz4wXiom"
      }
    },
    {
      "cell_type": "code",
      "source": [
        "my_list = [1, 2, 3, 2, 4]\n",
        "count = my_list.count(2)\n",
        "print(count)"
      ],
      "metadata": {
        "id": "ddN4Ce2sXlrM"
      },
      "execution_count": null,
      "outputs": []
    },
    {
      "cell_type": "markdown",
      "source": [
        "##10. sort(key=None, reverse=False)\n",
        "\n",
        "Sorts the elements of the list in ascending order (optional key and reverse parameters allow for customization).\n",
        "\n",
        "\n",
        "**key parameter:**\n",
        "\n",
        "The key parameter allows you to specify a function that will be called on each element of the list before making comparisons. The sorting is then based on the values returned by this function. It's useful when you want to sort the list based on some criteria other than the elements themselves.\n",
        "\n",
        "**reverse parameter:**\n",
        "\n",
        "The reverse parameter is a boolean that determines whether the sorting order should be ascending (reverse=False, the default) or descending (reverse=True).\n",
        "\n"
      ],
      "metadata": {
        "id": "x-TESKDeX6d4"
      }
    },
    {
      "cell_type": "code",
      "source": [
        "my_list = [\"apple\", \"banana\", \"orange\", \"grape\"]\n",
        "\n",
        "# Sort by the length of each element\n",
        "my_list.sort(key=len)\n",
        "print(my_list)"
      ],
      "metadata": {
        "id": "8Sprh40wYyHc"
      },
      "execution_count": null,
      "outputs": []
    },
    {
      "cell_type": "code",
      "source": [
        "my_list = [3, 1, 4, 1, 5, 9, 2, 6, 5, 3]\n",
        "\n",
        "# Sort in descending order\n",
        "my_list.sort(reverse=True)\n",
        "print(my_list)"
      ],
      "metadata": {
        "id": "zo6LyD8pYzsL"
      },
      "execution_count": null,
      "outputs": []
    },
    {
      "cell_type": "markdown",
      "source": [
        "##11. reverse()\n",
        "\n",
        "Reverses the order of elements in the list."
      ],
      "metadata": {
        "id": "yEwYtCW7ZNtu"
      }
    },
    {
      "cell_type": "code",
      "source": [
        "my_list = [1, 5, 2, 4]\n",
        "my_list.reverse()\n",
        "print(my_list)"
      ],
      "metadata": {
        "colab": {
          "base_uri": "https://localhost:8080/"
        },
        "id": "fyfA0Zr1ZRHQ",
        "outputId": "fb55c42d-a472-43ef-98b9-a22670e835a1"
      },
      "execution_count": 9,
      "outputs": [
        {
          "output_type": "stream",
          "name": "stdout",
          "text": [
            "[4, 2, 5, 1]\n"
          ]
        }
      ]
    },
    {
      "cell_type": "markdown",
      "source": [
        "##12.copy()\n",
        "\n",
        "Returns a shallow copy of the list."
      ],
      "metadata": {
        "id": "e9IErYaHZWWQ"
      }
    },
    {
      "cell_type": "code",
      "source": [
        "original_list = [1, 2, 3]\n",
        "copied_list = original_list.copy()\n",
        "print(copied_list)"
      ],
      "metadata": {
        "id": "R8GgihKAZafY"
      },
      "execution_count": null,
      "outputs": []
    }
  ]
}