{
  "nbformat": 4,
  "nbformat_minor": 0,
  "metadata": {
    "colab": {
      "provenance": [],
      "authorship_tag": "ABX9TyNaQvftuUsNjIMNtEvQA5eE",
      "include_colab_link": true
    },
    "kernelspec": {
      "name": "python3",
      "display_name": "Python 3"
    },
    "language_info": {
      "name": "python"
    }
  },
  "cells": [
    {
      "cell_type": "markdown",
      "metadata": {
        "id": "view-in-github",
        "colab_type": "text"
      },
      "source": [
        "<a href=\"https://colab.research.google.com/github/ShilpaVasista/Data_Visualization_with_Python/blob/main/1a_using_lists.ipynb\" target=\"_parent\"><img src=\"https://colab.research.google.com/assets/colab-badge.svg\" alt=\"Open In Colab\"/></a>"
      ]
    },
    {
      "cell_type": "markdown",
      "source": [
        "##Program 1.a\n",
        "**Problem Statement:**\n",
        "Write a python program to find the best of two test average marks out of three test’s marks accepted from the user.\n",
        "\n",
        "**Introduction:**\n",
        "Let's create a Python program that allows the user to enter three test marks and then calculates the average marks for all three tests. Finally, it will determine the best of the two average marks.\n"
      ],
      "metadata": {
        "id": "BHma3sqvp-L1"
      }
    },
    {
      "cell_type": "markdown",
      "source": [
        "##Step 1: Accept the Input\n",
        "Instruct the user to input three test marks one by one using the input() function and convert to float and store in the variables test1, test2 nd test3 respectively:\n",
        "Expected Output:\n",
        "\n",
        "\"Please enter the marks for Test 1: \"\n",
        "\n",
        "\"Please enter the marks for Test 2: \"\n",
        "\n",
        "\"Please enter the marks for Test 3: \""
      ],
      "metadata": {
        "id": "A4pI6ThnqEJW"
      }
    },
    {
      "cell_type": "code",
      "execution_count": null,
      "metadata": {
        "id": "3BCF8286pH17"
      },
      "outputs": [],
      "source": []
    },
    {
      "cell_type": "markdown",
      "source": [
        "## Step 2: Create an empty list named **marks**"
      ],
      "metadata": {
        "id": "3zRncWTMqdff"
      }
    },
    {
      "cell_type": "code",
      "source": [],
      "metadata": {
        "id": "sIIou20Bqhkf"
      },
      "execution_count": null,
      "outputs": []
    },
    {
      "cell_type": "markdown",
      "source": [
        "## Step 3: Add all three test marks to the list \"marks\" using .append() and print the list."
      ],
      "metadata": {
        "id": "4zB4cSPxqkN7"
      }
    },
    {
      "cell_type": "code",
      "source": [],
      "metadata": {
        "id": "bN_6kAa3rCZI"
      },
      "execution_count": null,
      "outputs": []
    },
    {
      "cell_type": "markdown",
      "source": [
        "## Step 4: Sort the list in descending order using the sort method with the reverse parameter set to True."
      ],
      "metadata": {
        "id": "5HYya6forDrl"
      }
    },
    {
      "cell_type": "code",
      "source": [],
      "metadata": {
        "id": "og0EYU6nro-X"
      },
      "execution_count": null,
      "outputs": []
    },
    {
      "cell_type": "markdown",
      "source": [
        "## Step 5: Print the list again"
      ],
      "metadata": {
        "id": "ryjUqVQrrqFP"
      }
    },
    {
      "cell_type": "code",
      "source": [],
      "metadata": {
        "id": "zR5HYaG3sjgV"
      },
      "execution_count": null,
      "outputs": []
    },
    {
      "cell_type": "markdown",
      "source": [
        "## Step 6: Compute the average of first two list elements.\n",
        "\n",
        "- Access the elements of the list using indexes.\n",
        "For instance, marks[0] represents the first element and so forth"
      ],
      "metadata": {
        "id": "NZ7-IFf6tond"
      }
    },
    {
      "cell_type": "code",
      "source": [],
      "metadata": {
        "id": "EbwqB9PRslnB"
      },
      "execution_count": null,
      "outputs": []
    },
    {
      "cell_type": "markdown",
      "source": [
        "## Step 7: Print the computed results"
      ],
      "metadata": {
        "id": "5GRGklNDtuuv"
      }
    },
    {
      "cell_type": "code",
      "source": [],
      "metadata": {
        "id": "0kSmYNJqtkDA"
      },
      "execution_count": null,
      "outputs": []
    }
  ]
}