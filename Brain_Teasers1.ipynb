{
  "nbformat": 4,
  "nbformat_minor": 0,
  "metadata": {
    "colab": {
      "provenance": [],
      "authorship_tag": "ABX9TyOYqiXnOhKL3QFYcWErcr0p",
      "include_colab_link": true
    },
    "kernelspec": {
      "name": "python3",
      "display_name": "Python 3"
    },
    "language_info": {
      "name": "python"
    }
  },
  "cells": [
    {
      "cell_type": "markdown",
      "metadata": {
        "id": "view-in-github",
        "colab_type": "text"
      },
      "source": [
        "<a href=\"https://colab.research.google.com/github/ShilpaVasista/BCS358D/blob/main/Brain_Teasers1.ipynb\" target=\"_parent\"><img src=\"https://colab.research.google.com/assets/colab-badge.svg\" alt=\"Open In Colab\"/></a>"
      ]
    },
    {
      "cell_type": "markdown",
      "source": [
        "1. 'Python Output Guess'! Decode Python snippets, guess the output, and let the fun begin. Ready, set, Python!\""
      ],
      "metadata": {
        "id": "nBgKj3rB2FHz"
      }
    },
    {
      "cell_type": "code",
      "execution_count": null,
      "metadata": {
        "id": "9oEx9f-r1k6N"
      },
      "outputs": [],
      "source": [
        "word = \"Python\"\n",
        "result = word.upper().lower()"
      ]
    },
    {
      "cell_type": "code",
      "source": [
        "sentence = \"Programming is Fun\"\n",
        "result = sentence.lower().upper()"
      ],
      "metadata": {
        "id": "nR4xA-Vy2zXD"
      },
      "execution_count": null,
      "outputs": []
    },
    {
      "cell_type": "code",
      "source": [
        "x = 5\n",
        "y = 2\n",
        "word = \"Python\"\n",
        "result = (x + y) * len(word)"
      ],
      "metadata": {
        "id": "tcCvIqlw24rH"
      },
      "execution_count": null,
      "outputs": []
    },
    {
      "cell_type": "code",
      "source": [
        "a = 4\n",
        "b = 2\n",
        "string1 = \"Hello\"\n",
        "string2 = \"world\"\n",
        "result = (a ** b) * (string1.upper() + string2.lower())"
      ],
      "metadata": {
        "id": "hJsFr1oe28Xf"
      },
      "execution_count": null,
      "outputs": []
    },
    {
      "cell_type": "code",
      "source": [
        "x = 15\n",
        "y = 2\n",
        "z = 3\n",
        "result = x % y ** z"
      ],
      "metadata": {
        "id": "o_U9PaKk3FLW"
      },
      "execution_count": null,
      "outputs": []
    },
    {
      "cell_type": "code",
      "source": [
        "text1 = \"Hello\"\n",
        "text2 = \"World\"\n",
        "result = (text1.lower() + text2.upper()).capitalize()"
      ],
      "metadata": {
        "id": "q9zxLRIG3kAw"
      },
      "execution_count": null,
      "outputs": []
    },
    {
      "cell_type": "code",
      "source": [
        "phrase = \"PyThON PrOgRaMmINg\"\n",
        "result = phrase.lower().replace(\"m\", \"z\").capitalize()"
      ],
      "metadata": {
        "id": "LQhF0T4u5s6J"
      },
      "execution_count": null,
      "outputs": []
    },
    {
      "cell_type": "markdown",
      "source": [
        "2. How would you interchange the case of characters in a given string in Python, converting uppercase letters to lowercase and vice versa? Provide a code example using the .swapcase() method"
      ],
      "metadata": {
        "id": "wJrogU2d33-6"
      }
    },
    {
      "cell_type": "markdown",
      "source": [
        "3. If num1 = 3 and num2 = 2, how can you use these numbers to create a string with the value \"32\" (not as an integer)?"
      ],
      "metadata": {
        "id": "uwlrtDIu4hzs"
      }
    }
  ]
}