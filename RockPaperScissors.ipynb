{
  "nbformat": 4,
  "nbformat_minor": 0,
  "metadata": {
    "colab": {
      "provenance": [],
      "authorship_tag": "ABX9TyPCcLRrpQcaabhMyoZrgKYu",
      "include_colab_link": true
    },
    "kernelspec": {
      "name": "python3",
      "display_name": "Python 3"
    },
    "language_info": {
      "name": "python"
    }
  },
  "cells": [
    {
      "cell_type": "markdown",
      "metadata": {
        "id": "view-in-github",
        "colab_type": "text"
      },
      "source": [
        "<a href=\"https://colab.research.google.com/github/ShilpaVasista/BCS358D/blob/main/RockPaperScissors.ipynb\" target=\"_parent\"><img src=\"https://colab.research.google.com/assets/colab-badge.svg\" alt=\"Open In Colab\"/></a>"
      ]
    },
    {
      "cell_type": "markdown",
      "source": [
        "# Exercise: Rock, Paper, Scissors Game\n",
        "Let's create a Python program for the classic Rock, Paper, Scissors game. This exercise will guide you step by step in developing the game. The game will allow a user to play against the computer.\n"
      ],
      "metadata": {
        "id": "iBDeEVoFMzUm"
      }
    },
    {
      "cell_type": "markdown",
      "source": [
        "**Step 1: Initialization**\n",
        "\n",
        "- Import the random module.\n",
        "- Define a list of choices: \"rock\", \"paper\", and \"scissors\".\n",
        "- Use random.choice() to randomly select the computer's choice."
      ],
      "metadata": {
        "id": "dckZSgeRNI6J"
      }
    },
    {
      "cell_type": "code",
      "source": [],
      "metadata": {
        "id": "0jMNuTY9NQFo"
      },
      "execution_count": null,
      "outputs": []
    },
    {
      "cell_type": "markdown",
      "source": [
        "**Step 2: User Input**\n",
        "\n",
        "- Prompt the user to enter their choice: \"rock\", \"paper\", or \"scissors\".\n",
        "- Validate the user's input to ensure it's a valid choice."
      ],
      "metadata": {
        "id": "9wR_4bvUNYWB"
      }
    },
    {
      "cell_type": "code",
      "source": [],
      "metadata": {
        "id": "9_zCGecCNcQZ"
      },
      "execution_count": null,
      "outputs": []
    },
    {
      "cell_type": "markdown",
      "source": [
        "**Step 3: Determine the Winner**\n",
        "\n",
        "- Implement logic to determine the winner based on the rules:\n",
        "- Rock beats scissors.\n",
        "- Scissors beats paper.\n",
        "- Paper beats rock.\n",
        "- If both choices are the same, it's a tie."
      ],
      "metadata": {
        "id": "a3gIAEbdNcr3"
      }
    },
    {
      "cell_type": "code",
      "source": [],
      "metadata": {
        "id": "nRekrdgbOR7t"
      },
      "execution_count": null,
      "outputs": []
    },
    {
      "cell_type": "markdown",
      "source": [
        "**Step 4: Display Results**\n",
        "\n",
        "- Print the computer's choice and the user's choice.\n",
        "- Print the result of the game: win, lose, or tie.\n"
      ],
      "metadata": {
        "id": "3BBPIc5gOSb4"
      }
    },
    {
      "cell_type": "code",
      "source": [],
      "metadata": {
        "id": "rPL8YdwJOVX3"
      },
      "execution_count": null,
      "outputs": []
    }
  ]
}